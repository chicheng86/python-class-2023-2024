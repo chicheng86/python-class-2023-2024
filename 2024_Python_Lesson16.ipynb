{
 "cells": [
  {
   "cell_type": "code",
   "execution_count": 2,
   "id": "278da2e3",
   "metadata": {},
   "outputs": [
    {
     "data": {
      "text/plain": [
       "'love'"
      ]
     },
     "execution_count": 2,
     "metadata": {},
     "output_type": "execute_result"
    }
   ],
   "source": [
    "s='I love python !'\n",
    "s[2:6]   "
   ]
  },
  {
   "cell_type": "code",
   "execution_count": 3,
   "id": "10683fd7",
   "metadata": {},
   "outputs": [
    {
     "data": {
      "text/plain": [
       "'I '"
      ]
     },
     "execution_count": 3,
     "metadata": {},
     "output_type": "execute_result"
    }
   ],
   "source": [
    "s[:2]"
   ]
  },
  {
   "cell_type": "code",
   "execution_count": 4,
   "id": "5bce7880",
   "metadata": {},
   "outputs": [
    {
     "data": {
      "text/plain": [
       "'I love python !'"
      ]
     },
     "execution_count": 4,
     "metadata": {},
     "output_type": "execute_result"
    }
   ],
   "source": [
    "s[:]"
   ]
  },
  {
   "cell_type": "code",
   "execution_count": 5,
   "id": "3af4a78c",
   "metadata": {},
   "outputs": [
    {
     "data": {
      "text/plain": [
       "'e python !'"
      ]
     },
     "execution_count": 5,
     "metadata": {},
     "output_type": "execute_result"
    }
   ],
   "source": [
    "s[5:]"
   ]
  },
  {
   "cell_type": "code",
   "execution_count": 6,
   "id": "bc01201a",
   "metadata": {},
   "outputs": [
    {
     "data": {
      "text/plain": [
       "-1"
      ]
     },
     "execution_count": 6,
     "metadata": {},
     "output_type": "execute_result"
    }
   ],
   "source": [
    "def find_a_letter_v1(s,c):\n",
    "    for i in range(len(s)):\n",
    "        if s[i]==c:\n",
    "            return i\n",
    "        return -1   # return -1 in the for loop, see what happens.\n",
    "find_a_letter_v1('banana','c')\n",
    "            "
   ]
  },
  {
   "cell_type": "code",
   "execution_count": 7,
   "id": "1bb09823",
   "metadata": {},
   "outputs": [
    {
     "data": {
      "text/plain": [
       "-1"
      ]
     },
     "execution_count": 7,
     "metadata": {},
     "output_type": "execute_result"
    }
   ],
   "source": [
    "find_a_letter_v1('banana','a')"
   ]
  },
  {
   "cell_type": "code",
   "execution_count": 11,
   "id": "674ae689",
   "metadata": {},
   "outputs": [
    {
     "data": {
      "text/plain": [
       "-1"
      ]
     },
     "execution_count": 11,
     "metadata": {},
     "output_type": "execute_result"
    }
   ],
   "source": [
    "def find_a_letter_v2(s,c):\n",
    "    x=-1\n",
    "    for i in range(len(s)):\n",
    "        if s[i]==c:\n",
    "            return i\n",
    "    return -1    # return -1 in the for loop, see what happens.\n",
    "find_a_letter_v2('banana','c')"
   ]
  },
  {
   "cell_type": "code",
   "execution_count": 16,
   "id": "39bfdd53",
   "metadata": {},
   "outputs": [
    {
     "data": {
      "text/plain": [
       "-1"
      ]
     },
     "execution_count": 16,
     "metadata": {},
     "output_type": "execute_result"
    }
   ],
   "source": [
    "find_a_letter_v2('banana','o')"
   ]
  },
  {
   "cell_type": "code",
   "execution_count": 17,
   "id": "bc3b45e9",
   "metadata": {},
   "outputs": [
    {
     "data": {
      "text/plain": [
       "3"
      ]
     },
     "execution_count": 17,
     "metadata": {},
     "output_type": "execute_result"
    }
   ],
   "source": [
    "find_a_letter_v2(s,'o')"
   ]
  },
  {
   "cell_type": "code",
   "execution_count": 19,
   "id": "88848567",
   "metadata": {},
   "outputs": [
    {
     "data": {
      "text/plain": [
       "3"
      ]
     },
     "execution_count": 19,
     "metadata": {},
     "output_type": "execute_result"
    }
   ],
   "source": [
    "s='I love Python !'\n",
    "c='o'\n",
    "find_a_letter_v2(s,c)"
   ]
  },
  {
   "cell_type": "code",
   "execution_count": null,
   "id": "cd4c7b09",
   "metadata": {},
   "outputs": [],
   "source": [
    "counter=0\n",
    "#if you find the letter, \n",
    "counter=counter+1"
   ]
  },
  {
   "cell_type": "code",
   "execution_count": 20,
   "id": "e52ca7a1",
   "metadata": {},
   "outputs": [
    {
     "data": {
      "text/plain": [
       "1"
      ]
     },
     "execution_count": 20,
     "metadata": {},
     "output_type": "execute_result"
    }
   ],
   "source": [
    "def count_a_letter(s,c):\n",
    "    counter=0\n",
    "    for i in range(len(s)):\n",
    "        if s[i]==c:\n",
    "            counter=counter+1\n",
    "    return counter\n",
    "count_a_letter('banana','b')\n",
    "            \n",
    "            "
   ]
  },
  {
   "cell_type": "code",
   "execution_count": 21,
   "id": "12ce12fd",
   "metadata": {},
   "outputs": [
    {
     "data": {
      "text/plain": [
       "3"
      ]
     },
     "execution_count": 21,
     "metadata": {},
     "output_type": "execute_result"
    }
   ],
   "source": [
    "s='banana'\n",
    "c='a'\n",
    "count_a_letter(s,c)"
   ]
  },
  {
   "cell_type": "code",
   "execution_count": 22,
   "id": "a7fdc783",
   "metadata": {},
   "outputs": [
    {
     "data": {
      "text/plain": [
       "2"
      ]
     },
     "execution_count": 22,
     "metadata": {},
     "output_type": "execute_result"
    }
   ],
   "source": [
    "s='banana'\n",
    "c='n'\n",
    "count_a_letter(s,c)"
   ]
  },
  {
   "cell_type": "code",
   "execution_count": 23,
   "id": "54020b82",
   "metadata": {},
   "outputs": [
    {
     "data": {
      "text/plain": [
       "0"
      ]
     },
     "execution_count": 23,
     "metadata": {},
     "output_type": "execute_result"
    }
   ],
   "source": [
    "s='banana'\n",
    "c='c'\n",
    "count_a_letter(s,c)"
   ]
  },
  {
   "cell_type": "code",
   "execution_count": null,
   "id": "b25eb32a",
   "metadata": {},
   "outputs": [],
   "source": []
  }
 ],
 "metadata": {
  "kernelspec": {
   "display_name": "Python 3 (ipykernel)",
   "language": "python",
   "name": "python3"
  },
  "language_info": {
   "codemirror_mode": {
    "name": "ipython",
    "version": 3
   },
   "file_extension": ".py",
   "mimetype": "text/x-python",
   "name": "python",
   "nbconvert_exporter": "python",
   "pygments_lexer": "ipython3",
   "version": "3.11.5"
  }
 },
 "nbformat": 4,
 "nbformat_minor": 5
}
