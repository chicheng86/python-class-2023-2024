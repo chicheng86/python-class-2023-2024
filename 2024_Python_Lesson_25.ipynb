{
 "cells": [
  {
   "cell_type": "code",
   "execution_count": 1,
   "id": "8a914c53",
   "metadata": {},
   "outputs": [],
   "source": [
    "shoppinglist={'strawberry':3,'blueberry':2,'banana':5,'kiwi':4}"
   ]
  },
  {
   "cell_type": "code",
   "execution_count": 3,
   "id": "0a064aaa",
   "metadata": {},
   "outputs": [
    {
     "data": {
      "text/plain": [
       "1"
      ]
     },
     "execution_count": 3,
     "metadata": {},
     "output_type": "execute_result"
    }
   ],
   "source": [
    "shoppinglist.get('watermelon',1)"
   ]
  },
  {
   "cell_type": "code",
   "execution_count": 5,
   "id": "0a6ec334",
   "metadata": {},
   "outputs": [
    {
     "data": {
      "text/plain": [
       "3"
      ]
     },
     "execution_count": 5,
     "metadata": {},
     "output_type": "execute_result"
    }
   ],
   "source": [
    "shoppinglist.get('strawberry',1)"
   ]
  },
  {
   "cell_type": "code",
   "execution_count": null,
   "id": "d543b601",
   "metadata": {},
   "outputs": [],
   "source": [
    "shoppinglist.get('banana',1)"
   ]
  },
  {
   "cell_type": "code",
   "execution_count": 4,
   "id": "ca415736",
   "metadata": {},
   "outputs": [
    {
     "name": "stdout",
     "output_type": "stream",
     "text": [
      "{'strawberry': 3, 'blueberry': 2, 'banana': 5, 'kiwi': 4}\n"
     ]
    }
   ],
   "source": [
    "print(shoppinglist)"
   ]
  },
  {
   "cell_type": "code",
   "execution_count": 6,
   "id": "ed7cb411",
   "metadata": {},
   "outputs": [
    {
     "name": "stdout",
     "output_type": "stream",
     "text": [
      "{'strawberry': 3, 'blueberry': 2, 'banana': 5, 'kiwi': 4, 'watermelon': 1}\n"
     ]
    }
   ],
   "source": [
    "shoppinglist['watermelon']=1\n",
    "print(shoppinglist)"
   ]
  },
  {
   "cell_type": "code",
   "execution_count": 7,
   "id": "5dfefec9",
   "metadata": {},
   "outputs": [
    {
     "name": "stdout",
     "output_type": "stream",
     "text": [
      "{'strawberry': 2, 'blueberry': 2, 'banana': 5, 'kiwi': 4, 'watermelon': 1}\n"
     ]
    }
   ],
   "source": [
    "shoppinglist['strawberry']=2\n",
    "print(shoppinglist)"
   ]
  },
  {
   "cell_type": "markdown",
   "id": "b1b2f87b",
   "metadata": {},
   "source": [
    "shoppinglist.get('dragonfruit','it is not on the list !')"
   ]
  },
  {
   "cell_type": "markdown",
   "id": "7db1a44b",
   "metadata": {},
   "source": [
    "Lab: 1) create your own shoppinglist dict started with 3-4 items. \n",
    "     2) Update your shoppinglist to 6 items.\n",
    "     3) use get to try an item which not in your shoppinglist dict, and a key which exist in the dict."
   ]
  },
  {
   "cell_type": "code",
   "execution_count": 10,
   "id": "569430e4",
   "metadata": {},
   "outputs": [],
   "source": [
    "groceryshopping={'beef':2,'tofu':2,'banana':5}"
   ]
  },
  {
   "cell_type": "code",
   "execution_count": 11,
   "id": "01cb5141",
   "metadata": {},
   "outputs": [
    {
     "name": "stdout",
     "output_type": "stream",
     "text": [
      "{'beef': 2, 'tofu': 2, 'banana': 5, 'corn': 5, 'milk': 3, 'egg': 1}\n"
     ]
    }
   ],
   "source": [
    "groceryshopping['corn']=5\n",
    "groceryshopping['milk']=3\n",
    "groceryshopping['egg']=1\n",
    "print(groceryshopping)"
   ]
  },
  {
   "cell_type": "code",
   "execution_count": 12,
   "id": "4788b154",
   "metadata": {},
   "outputs": [
    {
     "data": {
      "text/plain": [
       "'it is not on the list!'"
      ]
     },
     "execution_count": 12,
     "metadata": {},
     "output_type": "execute_result"
    }
   ],
   "source": [
    "groceryshopping.get('kiwi','it is not on the list!')"
   ]
  },
  {
   "cell_type": "code",
   "execution_count": 13,
   "id": "101c0bb9",
   "metadata": {},
   "outputs": [
    {
     "data": {
      "text/plain": [
       "1"
      ]
     },
     "execution_count": 13,
     "metadata": {},
     "output_type": "execute_result"
    }
   ],
   "source": [
    "groceryshopping.get('egg','it is not on the list!')"
   ]
  },
  {
   "cell_type": "code",
   "execution_count": 14,
   "id": "375b1ca3",
   "metadata": {},
   "outputs": [],
   "source": [
    "def histogram(word):\n",
    "    d={}\n",
    "    for letter in word:\n",
    "        if letter not in d:\n",
    "            d[letter]=1\n",
    "        else:\n",
    "            d[letter]=d[letter]+1\n",
    "    return d"
   ]
  },
  {
   "cell_type": "code",
   "execution_count": 15,
   "id": "e4c0b36d",
   "metadata": {},
   "outputs": [
    {
     "data": {
      "text/plain": [
       "{'b': 1, 'a': 3, 'n': 2}"
      ]
     },
     "execution_count": 15,
     "metadata": {},
     "output_type": "execute_result"
    }
   ],
   "source": [
    "histogram('banana')"
   ]
  },
  {
   "cell_type": "code",
   "execution_count": 18,
   "id": "216e4b40",
   "metadata": {},
   "outputs": [],
   "source": [
    "def histogram_v2(word):\n",
    "    d={}\n",
    "    for letter in word:\n",
    "        d[letter]=d.get(letter,0)+1\n",
    "    return d"
   ]
  },
  {
   "cell_type": "code",
   "execution_count": 19,
   "id": "18a61d5a",
   "metadata": {},
   "outputs": [
    {
     "data": {
      "text/plain": [
       "{'b': 1, 'a': 3, 'n': 2}"
      ]
     },
     "execution_count": 19,
     "metadata": {},
     "output_type": "execute_result"
    }
   ],
   "source": [
    "histogram_v2('banana')"
   ]
  },
  {
   "cell_type": "code",
   "execution_count": null,
   "id": "bfd4ed76",
   "metadata": {},
   "outputs": [],
   "source": []
  }
 ],
 "metadata": {
  "kernelspec": {
   "display_name": "Python 3 (ipykernel)",
   "language": "python",
   "name": "python3"
  },
  "language_info": {
   "codemirror_mode": {
    "name": "ipython",
    "version": 3
   },
   "file_extension": ".py",
   "mimetype": "text/x-python",
   "name": "python",
   "nbconvert_exporter": "python",
   "pygments_lexer": "ipython3",
   "version": "3.11.5"
  }
 },
 "nbformat": 4,
 "nbformat_minor": 5
}
