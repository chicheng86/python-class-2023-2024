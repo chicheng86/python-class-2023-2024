{
 "cells": [
  {
   "cell_type": "code",
   "execution_count": 2,
   "id": "f0247199",
   "metadata": {},
   "outputs": [
    {
     "name": "stdout",
     "output_type": "stream",
     "text": [
      "BANANA\n"
     ]
    }
   ],
   "source": [
    "word = 'banana'\n",
    "new_word = word.upper()\n",
    "print (new_word)"
   ]
  },
  {
   "cell_type": "code",
   "execution_count": 3,
   "id": "3d04c73c",
   "metadata": {},
   "outputs": [
    {
     "name": "stdout",
     "output_type": "stream",
     "text": [
      "banana\n"
     ]
    }
   ],
   "source": [
    "print(word)"
   ]
  },
  {
   "cell_type": "code",
   "execution_count": 4,
   "id": "a44e8e70",
   "metadata": {},
   "outputs": [
    {
     "data": {
      "text/plain": [
       "'UPPER'"
      ]
     },
     "execution_count": 4,
     "metadata": {},
     "output_type": "execute_result"
    }
   ],
   "source": [
    "'upper'.upper()"
   ]
  },
  {
   "cell_type": "code",
   "execution_count": 5,
   "id": "a97a2b7e",
   "metadata": {},
   "outputs": [
    {
     "data": {
      "text/plain": [
       "'KIWI'"
      ]
     },
     "execution_count": 5,
     "metadata": {},
     "output_type": "execute_result"
    }
   ],
   "source": [
    "s='kiwi'\n",
    "s.upper()"
   ]
  },
  {
   "cell_type": "markdown",
   "id": "25a87f3b",
   "metadata": {},
   "source": [
    "Try those string methods\n",
    "1) capitalize()\n",
    "2) swapcase()\n",
    "2) find(x)  --> find a letter or find a piece of string.\n"
   ]
  },
  {
   "cell_type": "code",
   "execution_count": 7,
   "id": "c9a60438",
   "metadata": {},
   "outputs": [
    {
     "data": {
      "text/plain": [
       "'kIWI'"
      ]
     },
     "execution_count": 7,
     "metadata": {},
     "output_type": "execute_result"
    }
   ],
   "source": [
    "s='Kiwi'\n",
    "s.swapcase()"
   ]
  },
  {
   "cell_type": "code",
   "execution_count": 12,
   "id": "694d86a7",
   "metadata": {},
   "outputs": [
    {
     "data": {
      "text/plain": [
       "1"
      ]
     },
     "execution_count": 12,
     "metadata": {},
     "output_type": "execute_result"
    }
   ],
   "source": [
    "s='banana'\n",
    "s.find('a',1,4)\n"
   ]
  },
  {
   "cell_type": "code",
   "execution_count": 13,
   "id": "76b30365",
   "metadata": {},
   "outputs": [
    {
     "data": {
      "text/plain": [
       "3"
      ]
     },
     "execution_count": 13,
     "metadata": {},
     "output_type": "execute_result"
    }
   ],
   "source": [
    "s.find('a',2,4)"
   ]
  },
  {
   "cell_type": "code",
   "execution_count": 14,
   "id": "ccb27200",
   "metadata": {},
   "outputs": [
    {
     "data": {
      "text/plain": [
       "-1"
      ]
     },
     "execution_count": 14,
     "metadata": {},
     "output_type": "execute_result"
    }
   ],
   "source": [
    "s.find('a',2,3)"
   ]
  },
  {
   "cell_type": "code",
   "execution_count": 9,
   "id": "0b817068",
   "metadata": {},
   "outputs": [
    {
     "data": {
      "text/plain": [
       "0"
      ]
     },
     "execution_count": 9,
     "metadata": {},
     "output_type": "execute_result"
    }
   ],
   "source": [
    "s='kiwi'\n",
    "s.find('k')"
   ]
  },
  {
   "cell_type": "code",
   "execution_count": 15,
   "id": "4ce62371",
   "metadata": {},
   "outputs": [
    {
     "ename": "TypeError",
     "evalue": "'str' object does not support item assignment",
     "output_type": "error",
     "traceback": [
      "\u001b[1;31m---------------------------------------------------------------------------\u001b[0m",
      "\u001b[1;31mTypeError\u001b[0m                                 Traceback (most recent call last)",
      "Cell \u001b[1;32mIn[15], line 3\u001b[0m\n\u001b[0;32m      1\u001b[0m \u001b[38;5;66;03m#string is immutable.\u001b[39;00m\n\u001b[0;32m      2\u001b[0m s\u001b[38;5;241m=\u001b[39m\u001b[38;5;124m'\u001b[39m\u001b[38;5;124mbanana\u001b[39m\u001b[38;5;124m'\u001b[39m\n\u001b[1;32m----> 3\u001b[0m s[\u001b[38;5;241m2\u001b[39m]\u001b[38;5;241m=\u001b[39m\u001b[38;5;124m'\u001b[39m\u001b[38;5;124mc\u001b[39m\u001b[38;5;124m'\u001b[39m\n",
      "\u001b[1;31mTypeError\u001b[0m: 'str' object does not support item assignment"
     ]
    }
   ],
   "source": [
    "#string is immutable.\n",
    "s='banana'\n",
    "s[2]='c'"
   ]
  },
  {
   "cell_type": "code",
   "execution_count": null,
   "id": "6374b82e",
   "metadata": {},
   "outputs": [],
   "source": [
    "s='bacana'"
   ]
  },
  {
   "cell_type": "markdown",
   "id": "e6baa715",
   "metadata": {},
   "source": [
    "# List !!!!"
   ]
  },
  {
   "cell_type": "code",
   "execution_count": 17,
   "id": "9c47616c",
   "metadata": {},
   "outputs": [],
   "source": [
    "letter_list=['b','a','n','a','n','a']"
   ]
  },
  {
   "cell_type": "code",
   "execution_count": 18,
   "id": "6241d5e9",
   "metadata": {},
   "outputs": [
    {
     "data": {
      "text/plain": [
       "6"
      ]
     },
     "execution_count": 18,
     "metadata": {},
     "output_type": "execute_result"
    }
   ],
   "source": [
    "len(letter_list)"
   ]
  },
  {
   "cell_type": "code",
   "execution_count": 20,
   "id": "1bd1234f",
   "metadata": {},
   "outputs": [
    {
     "data": {
      "text/plain": [
       "'n'"
      ]
     },
     "execution_count": 20,
     "metadata": {},
     "output_type": "execute_result"
    }
   ],
   "source": [
    "letter_list[2]"
   ]
  },
  {
   "cell_type": "code",
   "execution_count": 30,
   "id": "d5f764d5",
   "metadata": {},
   "outputs": [
    {
     "name": "stdout",
     "output_type": "stream",
     "text": [
      "['b', 'a', 'c', 'a', 'n', 'a']\n"
     ]
    }
   ],
   "source": [
    "letter_list[2]='c'   # List is mutuable ! (sring is immutable.)\n",
    "print(letter_list)"
   ]
  },
  {
   "cell_type": "code",
   "execution_count": 19,
   "id": "727ba0db",
   "metadata": {},
   "outputs": [
    {
     "data": {
      "text/plain": [
       "3"
      ]
     },
     "execution_count": 19,
     "metadata": {},
     "output_type": "execute_result"
    }
   ],
   "source": [
    "ll_2=['ba','na','na']\n",
    "len(ll_2)"
   ]
  },
  {
   "cell_type": "code",
   "execution_count": 21,
   "id": "89685d92",
   "metadata": {},
   "outputs": [
    {
     "data": {
      "text/plain": [
       "'na'"
      ]
     },
     "execution_count": 21,
     "metadata": {},
     "output_type": "execute_result"
    }
   ],
   "source": [
    "ll_2[2]"
   ]
  },
  {
   "cell_type": "code",
   "execution_count": 22,
   "id": "16c24c75",
   "metadata": {},
   "outputs": [
    {
     "data": {
      "text/plain": [
       "6"
      ]
     },
     "execution_count": 22,
     "metadata": {},
     "output_type": "execute_result"
    }
   ],
   "source": [
    "fruit_list=['banana','kiwi','dragonfruit','grapes','watermelon','mango']\n",
    "len(fruit_list)"
   ]
  },
  {
   "cell_type": "code",
   "execution_count": 23,
   "id": "7302b069",
   "metadata": {},
   "outputs": [
    {
     "data": {
      "text/plain": [
       "'grapes'"
      ]
     },
     "execution_count": 23,
     "metadata": {},
     "output_type": "execute_result"
    }
   ],
   "source": [
    "fruit_list[3]"
   ]
  },
  {
   "cell_type": "code",
   "execution_count": 24,
   "id": "5b25f91f",
   "metadata": {},
   "outputs": [],
   "source": [
    "confusing_list=[letter_list,ll_2,fruit_list]"
   ]
  },
  {
   "cell_type": "code",
   "execution_count": 25,
   "id": "0fd7eb5a",
   "metadata": {},
   "outputs": [
    {
     "data": {
      "text/plain": [
       "3"
      ]
     },
     "execution_count": 25,
     "metadata": {},
     "output_type": "execute_result"
    }
   ],
   "source": [
    "len(confusing_list)"
   ]
  },
  {
   "cell_type": "code",
   "execution_count": 26,
   "id": "8df7e265",
   "metadata": {},
   "outputs": [
    {
     "data": {
      "text/plain": [
       "['b', 'a', 'n', 'a', 'n', 'a']"
      ]
     },
     "execution_count": 26,
     "metadata": {},
     "output_type": "execute_result"
    }
   ],
   "source": [
    "confusing_list[0]"
   ]
  },
  {
   "cell_type": "code",
   "execution_count": 27,
   "id": "f36dffb5",
   "metadata": {},
   "outputs": [
    {
     "data": {
      "text/plain": [
       "['banana', 'kiwi', 'dragonfruit', 'grapes', 'watermelon', 'mango']"
      ]
     },
     "execution_count": 27,
     "metadata": {},
     "output_type": "execute_result"
    }
   ],
   "source": [
    "confusing_list[2]"
   ]
  },
  {
   "cell_type": "code",
   "execution_count": 29,
   "id": "db06437b",
   "metadata": {},
   "outputs": [
    {
     "data": {
      "text/plain": [
       "['ba', 'na', 'na']"
      ]
     },
     "execution_count": 29,
     "metadata": {},
     "output_type": "execute_result"
    }
   ],
   "source": [
    "confusing_list[1]"
   ]
  },
  {
   "cell_type": "code",
   "execution_count": null,
   "id": "9ba3a763",
   "metadata": {},
   "outputs": [],
   "source": []
  }
 ],
 "metadata": {
  "kernelspec": {
   "display_name": "Python 3 (ipykernel)",
   "language": "python",
   "name": "python3"
  },
  "language_info": {
   "codemirror_mode": {
    "name": "ipython",
    "version": 3
   },
   "file_extension": ".py",
   "mimetype": "text/x-python",
   "name": "python",
   "nbconvert_exporter": "python",
   "pygments_lexer": "ipython3",
   "version": "3.11.5"
  }
 },
 "nbformat": 4,
 "nbformat_minor": 5
}
