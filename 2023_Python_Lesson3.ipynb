{
 "cells": [
  {
   "cell_type": "code",
   "execution_count": 8,
   "metadata": {},
   "outputs": [
    {
     "data": {
      "text/plain": [
       "10000"
      ]
     },
     "execution_count": 8,
     "metadata": {},
     "output_type": "execute_result"
    }
   ],
   "source": [
    "100*100"
   ]
  },
  {
   "cell_type": "code",
   "execution_count": 14,
   "metadata": {},
   "outputs": [
    {
     "data": {
      "text/plain": [
       "314.0"
      ]
     },
     "execution_count": 14,
     "metadata": {},
     "output_type": "execute_result"
    }
   ],
   "source": [
    "3.14*(10)*(10)"
   ]
  },
  {
   "cell_type": "code",
   "execution_count": 17,
   "metadata": {},
   "outputs": [
    {
     "data": {
      "text/plain": [
       "10000000000"
      ]
     },
     "execution_count": 17,
     "metadata": {},
     "output_type": "execute_result"
    }
   ],
   "source": [
    "100*100*100*100*100   #'x' won't work!! it has to be a \"*\""
   ]
  },
  {
   "cell_type": "code",
   "execution_count": 13,
   "metadata": {},
   "outputs": [
    {
     "name": "stdout",
     "output_type": "stream",
     "text": [
      "10.0\n"
     ]
    }
   ],
   "source": [
    "import math\n",
    "y=math.sqrt(100)\n",
    "print(y)"
   ]
  },
  {
   "cell_type": "code",
   "execution_count": 9,
   "metadata": {},
   "outputs": [
    {
     "data": {
      "text/plain": [
       "200"
      ]
     },
     "execution_count": 9,
     "metadata": {},
     "output_type": "execute_result"
    }
   ],
   "source": [
    "100+100  #shift+enter"
   ]
  },
  {
   "cell_type": "code",
   "execution_count": null,
   "metadata": {
    "collapsed": true
   },
   "outputs": [],
   "source": [
    "# In order to calcuate tips: 1. Dinner cost, 2. Tip Percentage.3. Tax ammount."
   ]
  },
  {
   "cell_type": "code",
   "execution_count": 26,
   "metadata": {},
   "outputs": [
    {
     "name": "stdout",
     "output_type": "stream",
     "text": [
      "239.5\n"
     ]
    }
   ],
   "source": [
    "Dinnercost =479\n",
    "Tippercentage=0.5\n",
    "Tip=Dinnercost*Tippercentage   #Tip=100*0.15\n",
    "print(Tip)"
   ]
  },
  {
   "cell_type": "code",
   "execution_count": 40,
   "metadata": {},
   "outputs": [
    {
     "name": "stdout",
     "output_type": "stream",
     "text": [
      "How much is your dinner cost?100\n",
      "Tip percentage0.15\n",
      "15.0\n"
     ]
    }
   ],
   "source": [
    "Dinnercost=float(input('How much is your dinner cost?')) # input is always a \"str\"\n",
    "Tippercentage=float(input('Tip percentage'))\n",
    "Tip=Dinnercost*Tippercentage   \n",
    "print(Tip)"
   ]
  },
  {
   "cell_type": "code",
   "execution_count": 27,
   "metadata": {},
   "outputs": [
    {
     "name": "stdout",
     "output_type": "stream",
     "text": [
      "243.65\n"
     ]
    }
   ],
   "source": [
    "# total\n",
    "DinnerCost =479\n",
    "TipPercentage=0.5\n",
    "TaxPercentage=8.3\n",
    "Tip=(DinnerCost+TaxPercentage)*TipPercentage   #Tip=100*0.15\n",
    "print(Tip)\n"
   ]
  },
  {
   "cell_type": "code",
   "execution_count": 37,
   "metadata": {},
   "outputs": [
    {
     "name": "stdout",
     "output_type": "stream",
     "text": [
      "Here's the cost of your food!\n",
      "$ 479\n",
      "$ 39.757000000000005\n",
      "Here's your necessary tip:\n",
      "$ 239.5415\n",
      "Here's your total!\n",
      "$ 758.2985000000001\n"
     ]
    }
   ],
   "source": [
    "DinnerCost =479\n",
    "TipPercentage=0.5\n",
    "TaxPercentage=0.083\n",
    "Tip=(DinnerCost+TaxPercentage)*TipPercentage #Tip=100*0.15\n",
    "Tax=DinnerCost*TaxPercentage\n",
    "Total = Tip + DinnerCost + Tax\n",
    "print(\"Here's the cost of your food!\")\n",
    "print(\"$\", DinnerCost)\n",
    "print(\"$\", Tax)\n",
    "print(\"Here's your necessary tip:\")\n",
    "print(\"$\",Tip)\n",
    "print(\"Here's your total!\")\n",
    "print(\"$\",Total)"
   ]
  },
  {
   "cell_type": "code",
   "execution_count": null,
   "metadata": {
    "collapsed": true
   },
   "outputs": [],
   "source": []
  }
 ],
 "metadata": {
  "kernelspec": {
   "display_name": "Python 3",
   "language": "python",
   "name": "python3"
  },
  "language_info": {
   "codemirror_mode": {
    "name": "ipython",
    "version": 3
   },
   "file_extension": ".py",
   "mimetype": "text/x-python",
   "name": "python",
   "nbconvert_exporter": "python",
   "pygments_lexer": "ipython3",
   "version": "3.6.11"
  }
 },
 "nbformat": 4,
 "nbformat_minor": 2
}
