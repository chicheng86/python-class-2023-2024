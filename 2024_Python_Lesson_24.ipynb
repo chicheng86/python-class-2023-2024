{
 "cells": [
  {
   "cell_type": "code",
   "execution_count": 2,
   "id": "328f93aa",
   "metadata": {},
   "outputs": [],
   "source": [
    " def histogram(s):\n",
    "        d={}\n",
    "        for i in range(len(s)):\n",
    "            if s[i] not in d:\n",
    "                d[s[i]]=1\n",
    "            else:\n",
    "                d[s[i]]=d[s[i]]+1\n",
    "            #print(d)\n",
    "        return d"
   ]
  },
  {
   "cell_type": "code",
   "execution_count": 17,
   "id": "b75a4cb7",
   "metadata": {},
   "outputs": [
    {
     "name": "stdout",
     "output_type": "stream",
     "text": [
      "{'b': 1}\n",
      "{'b': 1, 'a': 1}\n",
      "{'b': 1, 'a': 1, 'n': 1}\n",
      "{'b': 1, 'a': 2, 'n': 1}\n",
      "{'b': 1, 'a': 2, 'n': 2}\n",
      "{'b': 1, 'a': 3, 'n': 2}\n"
     ]
    },
    {
     "data": {
      "text/plain": [
       "{'b': 1, 'a': 3, 'n': 2}"
      ]
     },
     "execution_count": 17,
     "metadata": {},
     "output_type": "execute_result"
    }
   ],
   "source": [
    "s='banana'\n",
    "histogram(s)"
   ]
  },
  {
   "cell_type": "code",
   "execution_count": 4,
   "id": "66cc7c8d",
   "metadata": {},
   "outputs": [
    {
     "name": "stdout",
     "output_type": "stream",
     "text": [
      "{'e': 1}\n",
      "{'e': 1, 'm': 1}\n",
      "{'e': 1, 'm': 2}\n",
      "{'e': 1, 'm': 2, 'a': 1}\n"
     ]
    },
    {
     "data": {
      "text/plain": [
       "{'e': 1, 'm': 2, 'a': 1}"
      ]
     },
     "execution_count": 4,
     "metadata": {},
     "output_type": "execute_result"
    }
   ],
   "source": [
    "s='emma'\n",
    "histogram(s)"
   ]
  },
  {
   "cell_type": "code",
   "execution_count": 16,
   "id": "e65acce3",
   "metadata": {},
   "outputs": [],
   "source": [
    " def histogram2(s):\n",
    "        d={}\n",
    "        for letter in s:\n",
    "            if letter not in d:\n",
    "                d[letter]=1\n",
    "            else:\n",
    "                d[letter]=d[letter]+1\n",
    "            #print(d)   \n",
    "        return d"
   ]
  },
  {
   "cell_type": "code",
   "execution_count": null,
   "id": "4c1b7d3b",
   "metadata": {},
   "outputs": [],
   "source": []
  },
  {
   "cell_type": "code",
   "execution_count": 7,
   "id": "c54405d8",
   "metadata": {},
   "outputs": [
    {
     "name": "stdout",
     "output_type": "stream",
     "text": [
      "{'b': 1}\n",
      "{'b': 1, 'a': 1}\n",
      "{'b': 1, 'a': 1, 'n': 1}\n",
      "{'b': 1, 'a': 2, 'n': 1}\n",
      "{'b': 1, 'a': 2, 'n': 2}\n",
      "{'b': 1, 'a': 3, 'n': 2}\n"
     ]
    },
    {
     "data": {
      "text/plain": [
       "{'b': 1, 'a': 3, 'n': 2}"
      ]
     },
     "execution_count": 7,
     "metadata": {},
     "output_type": "execute_result"
    }
   ],
   "source": [
    "s='banana'\n",
    "histogram2(s)"
   ]
  },
  {
   "cell_type": "code",
   "execution_count": 9,
   "id": "a35fe8a0",
   "metadata": {},
   "outputs": [
    {
     "name": "stdout",
     "output_type": "stream",
     "text": [
      "b 1\n",
      "a 3\n",
      "n 2\n"
     ]
    }
   ],
   "source": [
    "d={'b': 1, 'a': 3, 'n': 2}\n",
    "for key in d: \n",
    "    print(key,d[key])"
   ]
  },
  {
   "cell_type": "code",
   "execution_count": null,
   "id": "a022a698",
   "metadata": {},
   "outputs": [],
   "source": [
    "#Lab\n",
    "# print your histogram while looping the string: how this dictionary evolved.\n",
    "# looping the dictionary, and print key and corresponding value."
   ]
  },
  {
   "cell_type": "code",
   "execution_count": 10,
   "id": "d73b2a2b",
   "metadata": {},
   "outputs": [
    {
     "name": "stdout",
     "output_type": "stream",
     "text": [
      "a\n"
     ]
    }
   ],
   "source": [
    "d={'b': 1, 'a': 3, 'n': 2}\n",
    "for key in d: \n",
    "    if d[key]==3:\n",
    "        print(key)"
   ]
  },
  {
   "cell_type": "code",
   "execution_count": 11,
   "id": "8e8cc457",
   "metadata": {},
   "outputs": [
    {
     "data": {
      "text/plain": [
       "'n'"
      ]
     },
     "execution_count": 11,
     "metadata": {},
     "output_type": "execute_result"
    }
   ],
   "source": [
    "def reverse_lookup(d,x):\n",
    "    for key in d:\n",
    "        if d[key]==x:\n",
    "            return key\n",
    "    return -1\n",
    "    \n",
    "reverse_lookup(d,2) "
   ]
  },
  {
   "cell_type": "code",
   "execution_count": null,
   "id": "9768c02b",
   "metadata": {},
   "outputs": [],
   "source": []
  },
  {
   "cell_type": "code",
   "execution_count": 12,
   "id": "48a826b9",
   "metadata": {},
   "outputs": [
    {
     "data": {
      "text/plain": [
       "-1"
      ]
     },
     "execution_count": 12,
     "metadata": {},
     "output_type": "execute_result"
    }
   ],
   "source": [
    "reverse_lookup(d,5)"
   ]
  },
  {
   "cell_type": "code",
   "execution_count": 20,
   "id": "f56d27aa",
   "metadata": {},
   "outputs": [
    {
     "name": "stdout",
     "output_type": "stream",
     "text": [
      "{'b': 1}\n",
      "{'b': 1, 'a': 1}\n",
      "{'b': 1, 'a': 1, 'n': 1}\n",
      "{'b': 1, 'a': 2, 'n': 1}\n",
      "{'b': 1, 'a': 2, 'n': 2}\n",
      "{'b': 1, 'a': 3, 'n': 2}\n",
      "{'b': 1, 'a': 3, 'n': 2}\n"
     ]
    }
   ],
   "source": [
    "s='banana'\n",
    "d=histogram(s)\n",
    "print(d)"
   ]
  },
  {
   "cell_type": "code",
   "execution_count": null,
   "id": "e3943330",
   "metadata": {},
   "outputs": [],
   "source": [
    "lab2:\n",
    "reverse lookup a random str.\n",
    "if you have mutiple key corresoponding to the same value, return a list of the key.\n"
   ]
  },
  {
   "cell_type": "code",
   "execution_count": null,
   "id": "e79829c2",
   "metadata": {},
   "outputs": [],
   "source": [
    "def reverse_lookup2(d,x):\n",
    "    l=[]\n",
    "    for key in d:\n",
    "        if d[key]==x:\n",
    "           xxxxxxxxx\n",
    "   xxxxxxx\n",
    "    \n"
   ]
  }
 ],
 "metadata": {
  "kernelspec": {
   "display_name": "Python 3 (ipykernel)",
   "language": "python",
   "name": "python3"
  },
  "language_info": {
   "codemirror_mode": {
    "name": "ipython",
    "version": 3
   },
   "file_extension": ".py",
   "mimetype": "text/x-python",
   "name": "python",
   "nbconvert_exporter": "python",
   "pygments_lexer": "ipython3",
   "version": "3.11.5"
  }
 },
 "nbformat": 4,
 "nbformat_minor": 5
}
