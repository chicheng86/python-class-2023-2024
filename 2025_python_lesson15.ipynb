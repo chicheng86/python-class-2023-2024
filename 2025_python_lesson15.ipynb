{
 "cells": [
  {
   "cell_type": "code",
   "execution_count": 2,
   "id": "c5759592",
   "metadata": {},
   "outputs": [],
   "source": [
    "def print_first_last(s):\n",
    "    print(s[0])\n",
    "    print(s[len(s)-1])"
   ]
  },
  {
   "cell_type": "code",
   "execution_count": 3,
   "id": "f292f135",
   "metadata": {},
   "outputs": [
    {
     "name": "stdout",
     "output_type": "stream",
     "text": [
      "b\n",
      "a\n"
     ]
    }
   ],
   "source": [
    "print_first_last('banana')"
   ]
  },
  {
   "cell_type": "code",
   "execution_count": 4,
   "id": "4545765f",
   "metadata": {},
   "outputs": [
    {
     "name": "stdout",
     "output_type": "stream",
     "text": [
      "t\n",
      "e\n"
     ]
    }
   ],
   "source": [
    "print_first_last('tree')"
   ]
  },
  {
   "cell_type": "code",
   "execution_count": null,
   "id": "5dccc2f3",
   "metadata": {},
   "outputs": [],
   "source": [
    "string slice.  "
   ]
  },
  {
   "cell_type": "code",
   "execution_count": 6,
   "id": "a56e1949",
   "metadata": {},
   "outputs": [
    {
     "data": {
      "text/plain": [
       "'an'"
      ]
     },
     "execution_count": 6,
     "metadata": {},
     "output_type": "execute_result"
    }
   ],
   "source": [
    "'banana'[1:3]"
   ]
  },
  {
   "cell_type": "code",
   "execution_count": 8,
   "id": "57ae6dba",
   "metadata": {},
   "outputs": [],
   "source": [
    "def find_a_letter(l, s):\n",
    "    if l in s:\n",
    "        return True \n",
    "    else:\n",
    "        return False"
   ]
  },
  {
   "cell_type": "code",
   "execution_count": 10,
   "id": "97a00e4c",
   "metadata": {},
   "outputs": [
    {
     "data": {
      "text/plain": [
       "False"
      ]
     },
     "execution_count": 10,
     "metadata": {},
     "output_type": "execute_result"
    }
   ],
   "source": [
    "find_a_letter('g','banana')"
   ]
  },
  {
   "cell_type": "code",
   "execution_count": 13,
   "id": "a979a9d0",
   "metadata": {},
   "outputs": [
    {
     "data": {
      "text/plain": [
       "True"
      ]
     },
     "execution_count": 13,
     "metadata": {},
     "output_type": "execute_result"
    }
   ],
   "source": [
    "def find_a_letter(l,s):\n",
    "    for i in range(len(s)):\n",
    "        if s[i]==l:\n",
    "            return True\n",
    "    return False\n",
    "find_a_letter('n','banana')"
   ]
  },
  {
   "cell_type": "code",
   "execution_count": 15,
   "id": "8374ff32",
   "metadata": {},
   "outputs": [
    {
     "data": {
      "text/plain": [
       "-1"
      ]
     },
     "execution_count": 15,
     "metadata": {},
     "output_type": "execute_result"
    }
   ],
   "source": [
    "#Lab\n",
    "def find_a_letter(l,s):\n",
    "    for i in range(len(s)):\n",
    "        if s[i]==l:\n",
    "            return i\n",
    "    return -1\n",
    "find_a_letter('c','banana')"
   ]
  },
  {
   "cell_type": "code",
   "execution_count": null,
   "id": "919a1d21",
   "metadata": {},
   "outputs": [],
   "source": []
  }
 ],
 "metadata": {
  "kernelspec": {
   "display_name": "Python 3 (ipykernel)",
   "language": "python",
   "name": "python3"
  },
  "language_info": {
   "codemirror_mode": {
    "name": "ipython",
    "version": 3
   },
   "file_extension": ".py",
   "mimetype": "text/x-python",
   "name": "python",
   "nbconvert_exporter": "python",
   "pygments_lexer": "ipython3",
   "version": "3.11.5"
  }
 },
 "nbformat": 4,
 "nbformat_minor": 5
}
