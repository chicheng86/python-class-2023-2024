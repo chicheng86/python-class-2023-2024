{
 "cells": [
  {
   "cell_type": "code",
   "execution_count": 1,
   "id": "b799eaf1",
   "metadata": {},
   "outputs": [],
   "source": [
    "cracker={'Yiyi':3, 'Emma':2}"
   ]
  },
  {
   "cell_type": "code",
   "execution_count": 2,
   "id": "3224272e",
   "metadata": {},
   "outputs": [],
   "source": [
    "cracker['Julie']=4"
   ]
  },
  {
   "cell_type": "code",
   "execution_count": 3,
   "id": "3c06310b",
   "metadata": {},
   "outputs": [
    {
     "name": "stdout",
     "output_type": "stream",
     "text": [
      "{'Yiyi': 3, 'Emma': 2, 'Julie': 4}\n"
     ]
    }
   ],
   "source": [
    "print(cracker)"
   ]
  },
  {
   "cell_type": "code",
   "execution_count": 4,
   "id": "bf297df7",
   "metadata": {},
   "outputs": [
    {
     "name": "stdout",
     "output_type": "stream",
     "text": [
      "{'Yiyi': 3, 'Emma': 2, 'Julie': 4, 'Ella': 3}\n"
     ]
    }
   ],
   "source": [
    "cracker['Ella']=3\n",
    "print(cracker)"
   ]
  },
  {
   "cell_type": "code",
   "execution_count": 5,
   "id": "c10ab1b2",
   "metadata": {},
   "outputs": [
    {
     "name": "stdout",
     "output_type": "stream",
     "text": [
      "Who are you?Cheng\n",
      "How much you bring3\n"
     ]
    }
   ],
   "source": [
    "name=input('Who are you?')\n",
    "number=input('How much you bring')"
   ]
  },
  {
   "cell_type": "code",
   "execution_count": 6,
   "id": "4dfcbe2d",
   "metadata": {},
   "outputs": [
    {
     "name": "stdout",
     "output_type": "stream",
     "text": [
      "{'Yiyi': 3, 'Emma': 2, 'Julie': 4, 'Ella': 3, 'Cheng': 3}\n"
     ]
    }
   ],
   "source": [
    "cracker[name]=int(number)\n",
    "print(cracker)"
   ]
  },
  {
   "cell_type": "code",
   "execution_count": 7,
   "id": "cfa04e91",
   "metadata": {},
   "outputs": [],
   "source": [
    "cheeses={'Max':3,'Hayden':2}\n"
   ]
  },
  {
   "cell_type": "code",
   "execution_count": 8,
   "id": "db91513d",
   "metadata": {},
   "outputs": [
    {
     "name": "stdout",
     "output_type": "stream",
     "text": [
      "{'Max': 3, 'Hayden': 2, 'Jason': 4}\n"
     ]
    }
   ],
   "source": [
    "cheeses['Jason']=4\n",
    "print(cheeses)"
   ]
  },
  {
   "cell_type": "code",
   "execution_count": 13,
   "id": "68acaff7",
   "metadata": {},
   "outputs": [
    {
     "data": {
      "text/plain": [
       "3"
      ]
     },
     "execution_count": 13,
     "metadata": {},
     "output_type": "execute_result"
    }
   ],
   "source": [
    "cheeses.get('Max','The name cannot been found') # 'Max' is in the dictionry"
   ]
  },
  {
   "cell_type": "code",
   "execution_count": 15,
   "id": "4f5a1cee",
   "metadata": {},
   "outputs": [
    {
     "data": {
      "text/plain": [
       "'The name cannot been found'"
      ]
     },
     "execution_count": 15,
     "metadata": {},
     "output_type": "execute_result"
    }
   ],
   "source": [
    "cheeses.get('Lucas','The name cannot been found') #'Lucas'"
   ]
  },
  {
   "cell_type": "code",
   "execution_count": 16,
   "id": "f416c336",
   "metadata": {},
   "outputs": [
    {
     "ename": "KeyError",
     "evalue": "'Lucas'",
     "output_type": "error",
     "traceback": [
      "\u001b[1;31m---------------------------------------------------------------------------\u001b[0m",
      "\u001b[1;31mKeyError\u001b[0m                                  Traceback (most recent call last)",
      "Cell \u001b[1;32mIn[16], line 1\u001b[0m\n\u001b[1;32m----> 1\u001b[0m cheeses[\u001b[38;5;124m'\u001b[39m\u001b[38;5;124mLucas\u001b[39m\u001b[38;5;124m'\u001b[39m]\n",
      "\u001b[1;31mKeyError\u001b[0m: 'Lucas'"
     ]
    }
   ],
   "source": [
    "cheeses['Lucas']"
   ]
  },
  {
   "cell_type": "code",
   "execution_count": 12,
   "id": "dc68719d",
   "metadata": {},
   "outputs": [
    {
     "name": "stdout",
     "output_type": "stream",
     "text": [
      "{'Max': 3, 'Hayden': 2, 'Jason': 4}\n"
     ]
    }
   ],
   "source": [
    "print(cheeses)"
   ]
  },
  {
   "cell_type": "code",
   "execution_count": 21,
   "id": "52fe3f68",
   "metadata": {},
   "outputs": [
    {
     "name": "stdout",
     "output_type": "stream",
     "text": [
      "There are 10 apples in stock.\n"
     ]
    }
   ],
   "source": [
    "stock = {'apple': 10, 'banana': 5, 'orange': 3}\n",
    "\n",
    "#product = 'grape'\n",
    "product='apple'\n",
    "if product in stock:\n",
    "    quantity = stock[product]\n",
    "    print(f\"There are {quantity} {product}s in stock.\")\n",
    "else:\n",
    "    print(f\"{product.capitalize()} is not in stock.\")\n"
   ]
  },
  {
   "cell_type": "code",
   "execution_count": 22,
   "id": "29c5415f",
   "metadata": {},
   "outputs": [
    {
     "name": "stdout",
     "output_type": "stream",
     "text": [
      "There are not in stock grapes in stock.\n"
     ]
    }
   ],
   "source": [
    "stock = {'apple': 10, 'banana': 5, 'orange': 3}\n",
    "\n",
    "product = 'grape'\n",
    "quantity = stock.get(product, 'not in stock')\n",
    "print(f\"There are {quantity} {product}s in stock.\")\n"
   ]
  },
  {
   "cell_type": "code",
   "execution_count": null,
   "id": "a01cc069",
   "metadata": {},
   "outputs": [],
   "source": []
  }
 ],
 "metadata": {
  "kernelspec": {
   "display_name": "Python 3 (ipykernel)",
   "language": "python",
   "name": "python3"
  },
  "language_info": {
   "codemirror_mode": {
    "name": "ipython",
    "version": 3
   },
   "file_extension": ".py",
   "mimetype": "text/x-python",
   "name": "python",
   "nbconvert_exporter": "python",
   "pygments_lexer": "ipython3",
   "version": "3.11.5"
  }
 },
 "nbformat": 4,
 "nbformat_minor": 5
}
