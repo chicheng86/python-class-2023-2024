{
 "cells": [
  {
   "cell_type": "code",
   "execution_count": 1,
   "id": "c96d975f",
   "metadata": {},
   "outputs": [
    {
     "data": {
      "text/plain": [
       "18"
      ]
     },
     "execution_count": 1,
     "metadata": {},
     "output_type": "execute_result"
    }
   ],
   "source": [
    " def add_even(L):\n",
    "        even_sum=0\n",
    "        for i in range(len(L)):\n",
    "            if i%2==0:\n",
    "                even_sum=even_sum+L[i]\n",
    "        return even_sum\n",
    "add_even([2,5,2,7,10,3,4])\n",
    "                "
   ]
  },
  {
   "cell_type": "code",
   "execution_count": 2,
   "id": "49998287",
   "metadata": {},
   "outputs": [
    {
     "data": {
      "text/plain": [
       "15"
      ]
     },
     "execution_count": 2,
     "metadata": {},
     "output_type": "execute_result"
    }
   ],
   "source": [
    " def add_odd(L):\n",
    "        odd_sum=0\n",
    "        for i in range(len(L)):\n",
    "            if i%2==1:\n",
    "                odd_sum=odd_sum+L[i]\n",
    "        return odd_sum\n",
    "add_odd([2,5,2,7,10,3,4])"
   ]
  },
  {
   "cell_type": "code",
   "execution_count": 3,
   "id": "ab2a4f2b",
   "metadata": {},
   "outputs": [
    {
     "data": {
      "text/plain": [
       "'nana'"
      ]
     },
     "execution_count": 3,
     "metadata": {},
     "output_type": "execute_result"
    }
   ],
   "source": [
    "s='banana'\n",
    "s[2:]"
   ]
  },
  {
   "cell_type": "code",
   "execution_count": 4,
   "id": "e11263ed",
   "metadata": {},
   "outputs": [
    {
     "data": {
      "text/plain": [
       "[2, 7, 10, 3, 4]"
      ]
     },
     "execution_count": 4,
     "metadata": {},
     "output_type": "execute_result"
    }
   ],
   "source": [
    "L=[2,5,2,7,10,3,4]\n",
    "L[2:]"
   ]
  },
  {
   "cell_type": "code",
   "execution_count": 5,
   "id": "9b2e9456",
   "metadata": {},
   "outputs": [
    {
     "name": "stdout",
     "output_type": "stream",
     "text": [
      "[2, 5, 2, 7, 10, 3, 4]\n"
     ]
    }
   ],
   "source": [
    "print(L)"
   ]
  },
  {
   "cell_type": "code",
   "execution_count": 6,
   "id": "0c9ee3f1",
   "metadata": {},
   "outputs": [
    {
     "data": {
      "text/plain": [
       "[2, 7, 10]"
      ]
     },
     "execution_count": 6,
     "metadata": {},
     "output_type": "execute_result"
    }
   ],
   "source": [
    "L[2:5]"
   ]
  },
  {
   "cell_type": "code",
   "execution_count": 7,
   "id": "8d01af17",
   "metadata": {},
   "outputs": [
    {
     "data": {
      "text/plain": [
       "[10, 3, 4]"
      ]
     },
     "execution_count": 7,
     "metadata": {},
     "output_type": "execute_result"
    }
   ],
   "source": [
    "L[4:]"
   ]
  },
  {
   "cell_type": "code",
   "execution_count": 8,
   "id": "c6eb2773",
   "metadata": {},
   "outputs": [
    {
     "data": {
      "text/plain": [
       "[2, 5, 2, 7, 10]"
      ]
     },
     "execution_count": 8,
     "metadata": {},
     "output_type": "execute_result"
    }
   ],
   "source": [
    "L[:5]"
   ]
  },
  {
   "cell_type": "code",
   "execution_count": 9,
   "id": "869621ea",
   "metadata": {},
   "outputs": [
    {
     "data": {
      "text/plain": [
       "[5, 2, 7]"
      ]
     },
     "execution_count": 9,
     "metadata": {},
     "output_type": "execute_result"
    }
   ],
   "source": [
    "L[1:4]"
   ]
  },
  {
   "cell_type": "code",
   "execution_count": 10,
   "id": "7a7e5541",
   "metadata": {},
   "outputs": [
    {
     "data": {
      "text/plain": [
       "[1, 2, 3, 1, 2, 3, 1, 2, 3, 1, 2, 3]"
      ]
     },
     "execution_count": 10,
     "metadata": {},
     "output_type": "execute_result"
    }
   ],
   "source": [
    "L2=[1,2,3]\n",
    "L2*4"
   ]
  },
  {
   "cell_type": "code",
   "execution_count": 11,
   "id": "f16054c9",
   "metadata": {},
   "outputs": [],
   "source": [
    "L=[2, 5, 2, 7, 10, 3, 4]\n",
    "L.append(100)"
   ]
  },
  {
   "cell_type": "code",
   "execution_count": 12,
   "id": "8c45d424",
   "metadata": {},
   "outputs": [
    {
     "name": "stdout",
     "output_type": "stream",
     "text": [
      "[2, 5, 2, 7, 10, 3, 4, 100]\n"
     ]
    }
   ],
   "source": [
    "print(L)"
   ]
  },
  {
   "cell_type": "code",
   "execution_count": 13,
   "id": "b7079b59",
   "metadata": {},
   "outputs": [
    {
     "data": {
      "text/plain": [
       "100"
      ]
     },
     "execution_count": 13,
     "metadata": {},
     "output_type": "execute_result"
    }
   ],
   "source": [
    "L.pop()"
   ]
  },
  {
   "cell_type": "code",
   "execution_count": 14,
   "id": "b559c7ae",
   "metadata": {},
   "outputs": [
    {
     "name": "stdout",
     "output_type": "stream",
     "text": [
      "[2, 5, 2, 7, 10, 3, 4]\n"
     ]
    }
   ],
   "source": [
    "print(L)"
   ]
  },
  {
   "cell_type": "code",
   "execution_count": 15,
   "id": "328446d0",
   "metadata": {},
   "outputs": [
    {
     "data": {
      "text/plain": [
       "2"
      ]
     },
     "execution_count": 15,
     "metadata": {},
     "output_type": "execute_result"
    }
   ],
   "source": [
    "L.pop(0)"
   ]
  },
  {
   "cell_type": "code",
   "execution_count": 16,
   "id": "2dd5ae82",
   "metadata": {},
   "outputs": [
    {
     "name": "stdout",
     "output_type": "stream",
     "text": [
      "[5, 2, 7, 10, 3, 4]\n"
     ]
    }
   ],
   "source": [
    "print(L)"
   ]
  },
  {
   "cell_type": "markdown",
   "id": "f62e4a17",
   "metadata": {},
   "source": [
    "L=[2, 5, 2, 7, 10, 3, 4]\n",
    "Try  1) L.append(300)\n",
    "     2) L.append(5)\n",
    "     3) L.pop()\n",
    "     4) L.pop(0)\n",
    "     5) L.pop(3)\n",
    " What is the output and how L got updated during this process.\n",
    "     \n",
    "    \n"
   ]
  },
  {
   "cell_type": "code",
   "execution_count": 20,
   "id": "dac94efb",
   "metadata": {},
   "outputs": [],
   "source": [
    "#1: \n",
    "L=[2, 5, 2, 7, 10, 3, 4]\n",
    "L.append(300)\n"
   ]
  },
  {
   "cell_type": "code",
   "execution_count": 21,
   "id": "cc62bffa",
   "metadata": {},
   "outputs": [
    {
     "name": "stdout",
     "output_type": "stream",
     "text": [
      "[2, 5, 2, 7, 10, 3, 4, 300]\n"
     ]
    }
   ],
   "source": [
    "print(L) "
   ]
  },
  {
   "cell_type": "code",
   "execution_count": null,
   "id": "3d85053a",
   "metadata": {},
   "outputs": [],
   "source": []
  }
 ],
 "metadata": {
  "kernelspec": {
   "display_name": "Python 3 (ipykernel)",
   "language": "python",
   "name": "python3"
  },
  "language_info": {
   "codemirror_mode": {
    "name": "ipython",
    "version": 3
   },
   "file_extension": ".py",
   "mimetype": "text/x-python",
   "name": "python",
   "nbconvert_exporter": "python",
   "pygments_lexer": "ipython3",
   "version": "3.11.5"
  }
 },
 "nbformat": 4,
 "nbformat_minor": 5
}
