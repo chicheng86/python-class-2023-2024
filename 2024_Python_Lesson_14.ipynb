{
 "cells": [
  {
   "cell_type": "markdown",
   "id": "e3537f74",
   "metadata": {},
   "source": [
    "8.1 A string is a sequence"
   ]
  },
  {
   "cell_type": "code",
   "execution_count": 1,
   "id": "1eb84d83",
   "metadata": {},
   "outputs": [],
   "source": [
    "s='banana'"
   ]
  },
  {
   "cell_type": "markdown",
   "id": "e14ce8cc",
   "metadata": {},
   "source": [
    "8.2 len"
   ]
  },
  {
   "cell_type": "code",
   "execution_count": 2,
   "id": "0edecd2c",
   "metadata": {},
   "outputs": [
    {
     "data": {
      "text/plain": [
       "6"
      ]
     },
     "execution_count": 2,
     "metadata": {},
     "output_type": "execute_result"
    }
   ],
   "source": [
    "len(s)  # find the length "
   ]
  },
  {
   "cell_type": "code",
   "execution_count": 3,
   "id": "589e712b",
   "metadata": {},
   "outputs": [
    {
     "data": {
      "text/plain": [
       "'n'"
      ]
     },
     "execution_count": 3,
     "metadata": {},
     "output_type": "execute_result"
    }
   ],
   "source": [
    "s[2] # find the letter in index 2. "
   ]
  },
  {
   "cell_type": "code",
   "execution_count": 5,
   "id": "009369b5",
   "metadata": {},
   "outputs": [],
   "source": [
    "l='I love python!'"
   ]
  },
  {
   "cell_type": "code",
   "execution_count": 6,
   "id": "3572a059",
   "metadata": {},
   "outputs": [
    {
     "data": {
      "text/plain": [
       "14"
      ]
     },
     "execution_count": 6,
     "metadata": {},
     "output_type": "execute_result"
    }
   ],
   "source": [
    "len(l)"
   ]
  },
  {
   "cell_type": "code",
   "execution_count": 10,
   "id": "09c77799",
   "metadata": {},
   "outputs": [
    {
     "data": {
      "text/plain": [
       "'!'"
      ]
     },
     "execution_count": 10,
     "metadata": {},
     "output_type": "execute_result"
    }
   ],
   "source": [
    "l[13]"
   ]
  },
  {
   "cell_type": "code",
   "execution_count": 9,
   "id": "e7c0f23e",
   "metadata": {},
   "outputs": [
    {
     "data": {
      "text/plain": [
       "' '"
      ]
     },
     "execution_count": 9,
     "metadata": {},
     "output_type": "execute_result"
    }
   ],
   "source": [
    "l[1]"
   ]
  },
  {
   "cell_type": "code",
   "execution_count": 11,
   "id": "7e2fadbd",
   "metadata": {},
   "outputs": [
    {
     "ename": "IndexError",
     "evalue": "string index out of range",
     "output_type": "error",
     "traceback": [
      "\u001b[1;31m---------------------------------------------------------------------------\u001b[0m",
      "\u001b[1;31mIndexError\u001b[0m                                Traceback (most recent call last)",
      "Cell \u001b[1;32mIn[11], line 1\u001b[0m\n\u001b[1;32m----> 1\u001b[0m l[\u001b[38;5;241m14\u001b[39m]\n",
      "\u001b[1;31mIndexError\u001b[0m: string index out of range"
     ]
    }
   ],
   "source": [
    "l[14]"
   ]
  },
  {
   "cell_type": "markdown",
   "id": "dc17a568",
   "metadata": {},
   "source": [
    "8.3 Traversal with a for loop"
   ]
  },
  {
   "cell_type": "code",
   "execution_count": 12,
   "id": "19d76511",
   "metadata": {},
   "outputs": [
    {
     "name": "stdout",
     "output_type": "stream",
     "text": [
      "b\n",
      "a\n",
      "n\n",
      "a\n",
      "n\n",
      "a\n"
     ]
    }
   ],
   "source": [
    "for letter in s:\n",
    "    print(letter)"
   ]
  },
  {
   "cell_type": "code",
   "execution_count": 14,
   "id": "fd236e7d",
   "metadata": {},
   "outputs": [
    {
     "name": "stdout",
     "output_type": "stream",
     "text": [
      "b 0\n",
      "a 1\n",
      "n 2\n",
      "a 3\n",
      "n 4\n",
      "a 5\n"
     ]
    }
   ],
   "source": [
    "for index in range(len(s)):  # index starts from 0 to 6(not include 6) \n",
    "    print(s[index], index)"
   ]
  },
  {
   "cell_type": "code",
   "execution_count": 16,
   "id": "acdd5bd5",
   "metadata": {},
   "outputs": [],
   "source": [
    "#Lab: \n",
    "prefixes = 'JKLMNOPQ'\n",
    "suffix = 'ack' \n"
   ]
  },
  {
   "cell_type": "code",
   "execution_count": 17,
   "id": "01fc068e",
   "metadata": {},
   "outputs": [
    {
     "name": "stdout",
     "output_type": "stream",
     "text": [
      "Jack\n",
      "Kack\n",
      "Lack\n",
      "Mack\n",
      "Nack\n",
      "Oack\n",
      "Pack\n",
      "Qack\n"
     ]
    }
   ],
   "source": [
    "for letter in prefixes :\n",
    "    print(letter+suffix)"
   ]
  },
  {
   "cell_type": "code",
   "execution_count": 19,
   "id": "fa9cf808",
   "metadata": {},
   "outputs": [
    {
     "name": "stdout",
     "output_type": "stream",
     "text": [
      "Jack\n",
      "Kack\n",
      "Lack\n",
      "Mack\n",
      "Nack\n",
      "Oack\n",
      "Pack\n",
      "Qack\n"
     ]
    }
   ],
   "source": [
    "for index in range(len(prefixes)):\n",
    "    print(prefixes[index]+suffix)"
   ]
  },
  {
   "cell_type": "code",
   "execution_count": null,
   "id": "36e0d062",
   "metadata": {},
   "outputs": [],
   "source": []
  },
  {
   "cell_type": "code",
   "execution_count": null,
   "id": "2413bb98",
   "metadata": {},
   "outputs": [],
   "source": []
  }
 ],
 "metadata": {
  "kernelspec": {
   "display_name": "Python 3 (ipykernel)",
   "language": "python",
   "name": "python3"
  },
  "language_info": {
   "codemirror_mode": {
    "name": "ipython",
    "version": 3
   },
   "file_extension": ".py",
   "mimetype": "text/x-python",
   "name": "python",
   "nbconvert_exporter": "python",
   "pygments_lexer": "ipython3",
   "version": "3.11.5"
  }
 },
 "nbformat": 4,
 "nbformat_minor": 5
}
