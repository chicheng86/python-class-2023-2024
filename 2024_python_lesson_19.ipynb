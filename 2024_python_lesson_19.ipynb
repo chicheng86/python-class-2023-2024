{
 "cells": [
  {
   "cell_type": "code",
   "execution_count": 1,
   "id": "4bb22047",
   "metadata": {},
   "outputs": [
    {
     "data": {
      "text/plain": [
       "False"
      ]
     },
     "execution_count": 1,
     "metadata": {},
     "output_type": "execute_result"
    }
   ],
   "source": [
    "[1,2,3] == [3,2,1]"
   ]
  },
  {
   "cell_type": "code",
   "execution_count": null,
   "id": "55d8977f",
   "metadata": {},
   "outputs": [],
   "source": [
    "# list is a Sequence of the items "
   ]
  },
  {
   "cell_type": "code",
   "execution_count": 2,
   "id": "abd8adc4",
   "metadata": {},
   "outputs": [],
   "source": [
    "l=[2,3,12,6]"
   ]
  },
  {
   "cell_type": "code",
   "execution_count": 3,
   "id": "e711ac86",
   "metadata": {},
   "outputs": [
    {
     "data": {
      "text/plain": [
       "4"
      ]
     },
     "execution_count": 3,
     "metadata": {},
     "output_type": "execute_result"
    }
   ],
   "source": [
    "len(l)"
   ]
  },
  {
   "cell_type": "code",
   "execution_count": 4,
   "id": "d187dbb0",
   "metadata": {},
   "outputs": [
    {
     "data": {
      "text/plain": [
       "12"
      ]
     },
     "execution_count": 4,
     "metadata": {},
     "output_type": "execute_result"
    }
   ],
   "source": [
    "l[2]"
   ]
  },
  {
   "cell_type": "code",
   "execution_count": 5,
   "id": "04503960",
   "metadata": {},
   "outputs": [
    {
     "name": "stdout",
     "output_type": "stream",
     "text": [
      "[4, 6, 24, 12]\n"
     ]
    }
   ],
   "source": [
    "for i in range(len(l)):\n",
    "    l[i]=l[i]*2\n",
    "print(l)"
   ]
  },
  {
   "cell_type": "code",
   "execution_count": 6,
   "id": "97f9c2ed",
   "metadata": {},
   "outputs": [
    {
     "data": {
      "text/plain": [
       "[8, 12, 48, 24]"
      ]
     },
     "execution_count": 6,
     "metadata": {},
     "output_type": "execute_result"
    }
   ],
   "source": [
    "def double_list(l):\n",
    "    for i in range(len(l)):\n",
    "        l[i]=l[i]*2\n",
    "    return l\n",
    "double_list(l)\n",
    "    "
   ]
  },
  {
   "cell_type": "code",
   "execution_count": 9,
   "id": "056b81fa",
   "metadata": {},
   "outputs": [
    {
     "data": {
      "text/plain": [
       "[5, 15, 25]"
      ]
     },
     "execution_count": 9,
     "metadata": {},
     "output_type": "execute_result"
    }
   ],
   "source": [
    "def times_list(l,r):\n",
    "    for i in range(len(l)):\n",
    "        l[i]=l[i]*r\n",
    "    return l\n",
    "times_list([1,3,5],5)\n",
    "    "
   ]
  },
  {
   "cell_type": "code",
   "execution_count": 12,
   "id": "06d40d51",
   "metadata": {},
   "outputs": [
    {
     "name": "stdout",
     "output_type": "stream",
     "text": [
      "23\n"
     ]
    }
   ],
   "source": [
    "l=[2,3,12,6]\n",
    "sum_l=0\n",
    "for i in range(len(l)):\n",
    "    sum_l=sum_l+l[i]\n",
    "print(sum_l)  "
   ]
  },
  {
   "cell_type": "code",
   "execution_count": 13,
   "id": "80cf42e7",
   "metadata": {},
   "outputs": [
    {
     "data": {
      "text/plain": [
       "[1, 2, 3, 2, 3, 4]"
      ]
     },
     "execution_count": 13,
     "metadata": {},
     "output_type": "execute_result"
    }
   ],
   "source": [
    "L_1=[1,2,3]\n",
    "L_2=[2,3,4]\n",
    "L_1+L_2"
   ]
  },
  {
   "cell_type": "code",
   "execution_count": 14,
   "id": "11deafed",
   "metadata": {},
   "outputs": [
    {
     "data": {
      "text/plain": [
       "[2, 3, 4, 1, 2, 3]"
      ]
     },
     "execution_count": 14,
     "metadata": {},
     "output_type": "execute_result"
    }
   ],
   "source": [
    "L_2+L_1"
   ]
  },
  {
   "cell_type": "code",
   "execution_count": 15,
   "id": "126a5610",
   "metadata": {},
   "outputs": [
    {
     "data": {
      "text/plain": [
       "[1, 2, 3, 1, 2, 3, 1, 2, 3, 1, 2, 3]"
      ]
     },
     "execution_count": 15,
     "metadata": {},
     "output_type": "execute_result"
    }
   ],
   "source": [
    "L_1*4"
   ]
  },
  {
   "cell_type": "code",
   "execution_count": null,
   "id": "8f3ea6eb",
   "metadata": {},
   "outputs": [],
   "source": []
  }
 ],
 "metadata": {
  "kernelspec": {
   "display_name": "Python 3 (ipykernel)",
   "language": "python",
   "name": "python3"
  },
  "language_info": {
   "codemirror_mode": {
    "name": "ipython",
    "version": 3
   },
   "file_extension": ".py",
   "mimetype": "text/x-python",
   "name": "python",
   "nbconvert_exporter": "python",
   "pygments_lexer": "ipython3",
   "version": "3.11.5"
  }
 },
 "nbformat": 4,
 "nbformat_minor": 5
}
