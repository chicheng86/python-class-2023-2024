{
 "cells": [
  {
   "cell_type": "code",
   "execution_count": 2,
   "id": "44090970",
   "metadata": {},
   "outputs": [],
   "source": [
    " s='banana'\n"
   ]
  },
  {
   "cell_type": "code",
   "execution_count": 3,
   "id": "d2be9b48",
   "metadata": {},
   "outputs": [
    {
     "data": {
      "text/plain": [
       "0"
      ]
     },
     "execution_count": 3,
     "metadata": {},
     "output_type": "execute_result"
    }
   ],
   "source": [
    "s.find('b')"
   ]
  },
  {
   "cell_type": "code",
   "execution_count": 4,
   "id": "bd0574a2",
   "metadata": {},
   "outputs": [
    {
     "data": {
      "text/plain": [
       "-1"
      ]
     },
     "execution_count": 4,
     "metadata": {},
     "output_type": "execute_result"
    }
   ],
   "source": [
    "s.find('b',2,3)"
   ]
  },
  {
   "cell_type": "markdown",
   "id": "578091b1",
   "metadata": {},
   "source": [
    "bytes.replace(old, new[, count])\n",
    "bytearray.replace(old, new[, count])\n",
    "Return a copy of the sequence with all occurrences of subsequence old replaced by new. If the optional argument count is given, only the first count occurrences are replaced."
   ]
  },
  {
   "cell_type": "code",
   "execution_count": 5,
   "id": "da2ef933",
   "metadata": {},
   "outputs": [
    {
     "data": {
      "text/plain": [
       "'canana'"
      ]
     },
     "execution_count": 5,
     "metadata": {},
     "output_type": "execute_result"
    }
   ],
   "source": [
    "s.replace('b','c')"
   ]
  },
  {
   "cell_type": "code",
   "execution_count": 6,
   "id": "0be307d9",
   "metadata": {},
   "outputs": [
    {
     "name": "stdout",
     "output_type": "stream",
     "text": [
      "banana\n"
     ]
    }
   ],
   "source": [
    "print(s)"
   ]
  },
  {
   "cell_type": "code",
   "execution_count": 7,
   "id": "b5d4fa16",
   "metadata": {},
   "outputs": [
    {
     "name": "stdout",
     "output_type": "stream",
     "text": [
      "banana canana\n"
     ]
    }
   ],
   "source": [
    "s2=s.replace('b','c')\n",
    "print(s,s2)"
   ]
  },
  {
   "cell_type": "code",
   "execution_count": 9,
   "id": "5d8df580",
   "metadata": {},
   "outputs": [
    {
     "data": {
      "text/plain": [
       "'bonono'"
      ]
     },
     "execution_count": 9,
     "metadata": {},
     "output_type": "execute_result"
    }
   ],
   "source": [
    "s.replace('a','o',3)"
   ]
  },
  {
   "cell_type": "code",
   "execution_count": 10,
   "id": "a5530cf3",
   "metadata": {},
   "outputs": [
    {
     "data": {
      "text/plain": [
       "'booa'"
      ]
     },
     "execution_count": 10,
     "metadata": {},
     "output_type": "execute_result"
    }
   ],
   "source": [
    "s.replace('an','o',3)  # 1. a string can be replaced. 2. if the number of string is less <3, replace as much as possible."
   ]
  },
  {
   "cell_type": "code",
   "execution_count": 11,
   "id": "d5dbb85f",
   "metadata": {},
   "outputs": [
    {
     "data": {
      "text/plain": [
       "['ba', 'a', 'a']"
      ]
     },
     "execution_count": 11,
     "metadata": {},
     "output_type": "execute_result"
    }
   ],
   "source": [
    "s='banana'\n",
    "s.split('n')"
   ]
  },
  {
   "cell_type": "markdown",
   "id": "38fd3c13",
   "metadata": {},
   "source": [
    "str.split(sep=None, maxsplit=-1)\n",
    "Return a list of the words in the string, using sep as the delimiter string. If maxsplit is given, at most maxsplit splits are done (thus, the list will have at most maxsplit+1 elements). If maxsplit is not specified or -1, then there is no limit on the number of splits (all possible splits are made).\n",
    "\n",
    "If sep is given, consecutive delimiters are not grouped together and are deemed to delimit empty strings (for example, '1,,2'.split(',') returns ['1', '', '2']). The sep argument may consist of multiple characters (for example, '1<>2<>3'.split('<>') returns ['1', '2', '3']). Splitting an empty string with a specified separator returns ['']."
   ]
  },
  {
   "cell_type": "code",
   "execution_count": 12,
   "id": "c09da7ed",
   "metadata": {},
   "outputs": [
    {
     "data": {
      "text/plain": [
       "['1', '1', '1', '1', '1', '']"
      ]
     },
     "execution_count": 12,
     "metadata": {},
     "output_type": "execute_result"
    }
   ],
   "source": [
    "s='1010101010'\n",
    "s.split('0')"
   ]
  },
  {
   "cell_type": "code",
   "execution_count": 14,
   "id": "dd0229ec",
   "metadata": {},
   "outputs": [],
   "source": [
    " nl=[2,10,5]\n"
   ]
  },
  {
   "cell_type": "code",
   "execution_count": null,
   "id": "c5ff047c",
   "metadata": {},
   "outputs": [],
   "source": []
  },
  {
   "cell_type": "code",
   "execution_count": 15,
   "id": "c11dfdc4",
   "metadata": {},
   "outputs": [
    {
     "name": "stdout",
     "output_type": "stream",
     "text": [
      "[3, 11, 6]\n"
     ]
    }
   ],
   "source": [
    "for i in range(len(nl)):\n",
    "    nl[i]=nl[i]+1\n",
    "print(nl) "
   ]
  },
  {
   "cell_type": "code",
   "execution_count": 18,
   "id": "ab09390f",
   "metadata": {},
   "outputs": [],
   "source": [
    "nl2=[2,3,56,135,1,45,1,66]"
   ]
  },
  {
   "cell_type": "code",
   "execution_count": 16,
   "id": "7eba99bc",
   "metadata": {},
   "outputs": [
    {
     "data": {
      "text/plain": [
       "[4, 12, 7]"
      ]
     },
     "execution_count": 16,
     "metadata": {},
     "output_type": "execute_result"
    }
   ],
   "source": [
    "def plusone(nl):\n",
    "    for i in range(len(nl)):\n",
    "        nl[i]=nl[i]+1\n",
    "    return(nl)\n",
    "plusone(nl)\n",
    "    "
   ]
  },
  {
   "cell_type": "code",
   "execution_count": 19,
   "id": "facf07f2",
   "metadata": {},
   "outputs": [
    {
     "data": {
      "text/plain": [
       "[3, 4, 57, 136, 2, 46, 2, 67]"
      ]
     },
     "execution_count": 19,
     "metadata": {},
     "output_type": "execute_result"
    }
   ],
   "source": [
    "plusone(nl2)"
   ]
  },
  {
   "cell_type": "code",
   "execution_count": null,
   "id": "1b60858f",
   "metadata": {},
   "outputs": [],
   "source": []
  }
 ],
 "metadata": {
  "kernelspec": {
   "display_name": "Python 3 (ipykernel)",
   "language": "python",
   "name": "python3"
  },
  "language_info": {
   "codemirror_mode": {
    "name": "ipython",
    "version": 3
   },
   "file_extension": ".py",
   "mimetype": "text/x-python",
   "name": "python",
   "nbconvert_exporter": "python",
   "pygments_lexer": "ipython3",
   "version": "3.11.5"
  }
 },
 "nbformat": 4,
 "nbformat_minor": 5
}
