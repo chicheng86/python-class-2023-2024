{
 "cells": [
  {
   "cell_type": "code",
   "execution_count": 4,
   "id": "a732494b",
   "metadata": {},
   "outputs": [],
   "source": [
    " def unique_list(n_L):\n",
    "        u_L=[]\n",
    "        for i in range(len(n_L)):\n",
    "            if n_L[i] not in u_L:\n",
    "                u_L.append(n_L[i])\n",
    "        return u_L\n",
    " \n",
    "                "
   ]
  },
  {
   "cell_type": "code",
   "execution_count": 5,
   "id": "51d4691a",
   "metadata": {},
   "outputs": [
    {
     "data": {
      "text/plain": [
       "[3, 5, 2, 1]"
      ]
     },
     "execution_count": 5,
     "metadata": {},
     "output_type": "execute_result"
    }
   ],
   "source": [
    "unique_list([3,5,3,2,1,5])"
   ]
  },
  {
   "cell_type": "code",
   "execution_count": 14,
   "id": "9e300cd4",
   "metadata": {},
   "outputs": [],
   "source": [
    "def even_list(n_s_L):\n",
    "    s_L=[]\n",
    "    for i in range(len(n_s_L)):\n",
    "        if n_s_L[i]%2==0:\n",
    "            s_L.append(n_s_L[i])\n",
    "    return s_L"
   ]
  },
  {
   "cell_type": "code",
   "execution_count": 15,
   "id": "658d356f",
   "metadata": {},
   "outputs": [
    {
     "data": {
      "text/plain": [
       "[2, 4, 2, 6]"
      ]
     },
     "execution_count": 15,
     "metadata": {},
     "output_type": "execute_result"
    }
   ],
   "source": [
    "even_list([1,2,3,4,5,3,2,5,1,6])"
   ]
  },
  {
   "cell_type": "code",
   "execution_count": 17,
   "id": "8a003bc1",
   "metadata": {},
   "outputs": [
    {
     "name": "stdout",
     "output_type": "stream",
     "text": [
      "[2, 4, 6]\n"
     ]
    }
   ],
   "source": [
    "e_l=even_list([1,2,3,4,5,3,2,5,1,6])\n",
    "u_e_l=unique_list(e_l)\n",
    "print(u_e_l)"
   ]
  },
  {
   "cell_type": "code",
   "execution_count": 18,
   "id": "6e643ff4",
   "metadata": {},
   "outputs": [],
   "source": [
    "def n_sum(L):\n",
    "    n_sum=0\n",
    "    for i in range(len(L)):\n",
    "        n_sum=n_sum+L[i]\n",
    "    return n_sum"
   ]
  },
  {
   "cell_type": "code",
   "execution_count": 19,
   "id": "89817c68",
   "metadata": {},
   "outputs": [
    {
     "data": {
      "text/plain": [
       "12"
      ]
     },
     "execution_count": 19,
     "metadata": {},
     "output_type": "execute_result"
    }
   ],
   "source": [
    "e_l=even_list([1,2,3,4,5,3,2,5,1,6])\n",
    "u_e_l=unique_list(e_l)\n",
    "n_sum(u_e_l)"
   ]
  },
  {
   "cell_type": "code",
   "execution_count": 20,
   "id": "57e0b64f",
   "metadata": {},
   "outputs": [],
   "source": [
    "Grocery_shopping={'strawberry':2, 'blueberry':2,'banana':7,'apple':5 }"
   ]
  },
  {
   "cell_type": "code",
   "execution_count": 22,
   "id": "e3ce64da",
   "metadata": {},
   "outputs": [
    {
     "data": {
      "text/plain": [
       "2"
      ]
     },
     "execution_count": 22,
     "metadata": {},
     "output_type": "execute_result"
    }
   ],
   "source": [
    "Grocery_shopping['strawberry']"
   ]
  },
  {
   "cell_type": "code",
   "execution_count": null,
   "id": "184a6b4f",
   "metadata": {},
   "outputs": [],
   "source": []
  }
 ],
 "metadata": {
  "kernelspec": {
   "display_name": "Python 3 (ipykernel)",
   "language": "python",
   "name": "python3"
  },
  "language_info": {
   "codemirror_mode": {
    "name": "ipython",
    "version": 3
   },
   "file_extension": ".py",
   "mimetype": "text/x-python",
   "name": "python",
   "nbconvert_exporter": "python",
   "pygments_lexer": "ipython3",
   "version": "3.11.5"
  }
 },
 "nbformat": 4,
 "nbformat_minor": 5
}
